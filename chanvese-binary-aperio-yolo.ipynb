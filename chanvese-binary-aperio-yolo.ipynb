{
 "cells": [
  {
   "cell_type": "code",
   "execution_count": 1,
   "id": "25c6fb6c",
   "metadata": {
    "execution": {
     "iopub.execute_input": "2023-04-12T17:29:55.097316Z",
     "iopub.status.busy": "2023-04-12T17:29:55.096822Z",
     "iopub.status.idle": "2023-04-12T17:30:09.096695Z",
     "shell.execute_reply": "2023-04-12T17:30:09.095290Z"
    },
    "id": "xY4-miv53LQL",
    "outputId": "b2005d78-dda3-4cbf-aca2-235555067599",
    "papermill": {
     "duration": 14.007432,
     "end_time": "2023-04-12T17:30:09.099087",
     "exception": false,
     "start_time": "2023-04-12T17:29:55.091655",
     "status": "completed"
    },
    "tags": []
   },
   "outputs": [
    {
     "name": "stdout",
     "output_type": "stream",
     "text": [
      "Collecting ultralytics\r\n",
      "  Downloading ultralytics-8.0.74-py3-none-any.whl (509 kB)\r\n",
      "\u001b[2K     \u001b[90m━━━━━━━━━━━━━━━━━━━━━━━━━━━━━━━━━━━━━━\u001b[0m \u001b[32m509.4/509.4 kB\u001b[0m \u001b[31m13.9 MB/s\u001b[0m eta \u001b[36m0:00:00\u001b[0m\r\n",
      "\u001b[?25hRequirement already satisfied: tqdm>=4.64.0 in /opt/conda/lib/python3.7/site-packages (from ultralytics) (4.64.1)\r\n",
      "Requirement already satisfied: torch>=1.7.0 in /opt/conda/lib/python3.7/site-packages (from ultralytics) (1.13.0)\r\n",
      "Requirement already satisfied: seaborn>=0.11.0 in /opt/conda/lib/python3.7/site-packages (from ultralytics) (0.12.2)\r\n",
      "Requirement already satisfied: requests>=2.23.0 in /opt/conda/lib/python3.7/site-packages (from ultralytics) (2.28.2)\r\n",
      "Requirement already satisfied: scipy>=1.4.1 in /opt/conda/lib/python3.7/site-packages (from ultralytics) (1.7.3)\r\n",
      "Collecting thop>=0.1.1\r\n",
      "  Downloading thop-0.1.1.post2209072238-py3-none-any.whl (15 kB)\r\n",
      "Collecting opencv-python>=4.6.0\r\n",
      "  Downloading opencv_python-4.7.0.72-cp37-abi3-manylinux_2_17_x86_64.manylinux2014_x86_64.whl (61.8 MB)\r\n",
      "\u001b[2K     \u001b[90m━━━━━━━━━━━━━━━━━━━━━━━━━━━━━━━━━━━━━━━━\u001b[0m \u001b[32m61.8/61.8 MB\u001b[0m \u001b[31m21.9 MB/s\u001b[0m eta \u001b[36m0:00:00\u001b[0m\r\n",
      "\u001b[?25hRequirement already satisfied: torchvision>=0.8.1 in /opt/conda/lib/python3.7/site-packages (from ultralytics) (0.14.0)\r\n",
      "Requirement already satisfied: PyYAML>=5.3.1 in /opt/conda/lib/python3.7/site-packages (from ultralytics) (6.0)\r\n",
      "Requirement already satisfied: pandas>=1.1.4 in /opt/conda/lib/python3.7/site-packages (from ultralytics) (1.3.5)\r\n",
      "Requirement already satisfied: psutil in /opt/conda/lib/python3.7/site-packages (from ultralytics) (5.9.3)\r\n",
      "Requirement already satisfied: sentry-sdk in /opt/conda/lib/python3.7/site-packages (from ultralytics) (1.18.0)\r\n",
      "Requirement already satisfied: numpy>=1.21.6 in /opt/conda/lib/python3.7/site-packages (from ultralytics) (1.21.6)\r\n",
      "Requirement already satisfied: matplotlib>=3.2.2 in /opt/conda/lib/python3.7/site-packages (from ultralytics) (3.5.3)\r\n",
      "Requirement already satisfied: Pillow>=7.1.2 in /opt/conda/lib/python3.7/site-packages (from ultralytics) (9.4.0)\r\n",
      "Requirement already satisfied: python-dateutil>=2.7 in /opt/conda/lib/python3.7/site-packages (from matplotlib>=3.2.2->ultralytics) (2.8.2)\r\n",
      "Requirement already satisfied: fonttools>=4.22.0 in /opt/conda/lib/python3.7/site-packages (from matplotlib>=3.2.2->ultralytics) (4.38.0)\r\n",
      "Requirement already satisfied: pyparsing>=2.2.1 in /opt/conda/lib/python3.7/site-packages (from matplotlib>=3.2.2->ultralytics) (3.0.9)\r\n",
      "Requirement already satisfied: kiwisolver>=1.0.1 in /opt/conda/lib/python3.7/site-packages (from matplotlib>=3.2.2->ultralytics) (1.4.4)\r\n",
      "Requirement already satisfied: cycler>=0.10 in /opt/conda/lib/python3.7/site-packages (from matplotlib>=3.2.2->ultralytics) (0.11.0)\r\n",
      "Requirement already satisfied: packaging>=20.0 in /opt/conda/lib/python3.7/site-packages (from matplotlib>=3.2.2->ultralytics) (23.0)\r\n",
      "Requirement already satisfied: pytz>=2017.3 in /opt/conda/lib/python3.7/site-packages (from pandas>=1.1.4->ultralytics) (2023.3)\r\n",
      "Requirement already satisfied: idna<4,>=2.5 in /opt/conda/lib/python3.7/site-packages (from requests>=2.23.0->ultralytics) (3.4)\r\n",
      "Requirement already satisfied: certifi>=2017.4.17 in /opt/conda/lib/python3.7/site-packages (from requests>=2.23.0->ultralytics) (2022.12.7)\r\n",
      "Requirement already satisfied: charset-normalizer<4,>=2 in /opt/conda/lib/python3.7/site-packages (from requests>=2.23.0->ultralytics) (2.1.1)\r\n",
      "Requirement already satisfied: urllib3<1.27,>=1.21.1 in /opt/conda/lib/python3.7/site-packages (from requests>=2.23.0->ultralytics) (1.26.14)\r\n",
      "Requirement already satisfied: typing_extensions in /opt/conda/lib/python3.7/site-packages (from seaborn>=0.11.0->ultralytics) (4.4.0)\r\n",
      "Requirement already satisfied: six>=1.5 in /opt/conda/lib/python3.7/site-packages (from python-dateutil>=2.7->matplotlib>=3.2.2->ultralytics) (1.16.0)\r\n",
      "Installing collected packages: opencv-python, thop, ultralytics\r\n",
      "  Attempting uninstall: opencv-python\r\n",
      "    Found existing installation: opencv-python 4.5.4.60\r\n",
      "    Uninstalling opencv-python-4.5.4.60:\r\n",
      "      Successfully uninstalled opencv-python-4.5.4.60\r\n",
      "Successfully installed opencv-python-4.7.0.72 thop-0.1.1.post2209072238 ultralytics-8.0.74\r\n",
      "\u001b[33mWARNING: Running pip as the 'root' user can result in broken permissions and conflicting behaviour with the system package manager. It is recommended to use a virtual environment instead: https://pip.pypa.io/warnings/venv\u001b[0m\u001b[33m\r\n",
      "\u001b[0mNote: you may need to restart the kernel to use updated packages.\n"
     ]
    }
   ],
   "source": [
    "pip install ultralytics  "
   ]
  },
  {
   "cell_type": "code",
   "execution_count": 2,
   "id": "7122fcc8",
   "metadata": {
    "execution": {
     "iopub.execute_input": "2023-04-12T17:30:09.109205Z",
     "iopub.status.busy": "2023-04-12T17:30:09.108884Z",
     "iopub.status.idle": "2023-04-12T17:30:11.845960Z",
     "shell.execute_reply": "2023-04-12T17:30:11.844665Z"
    },
    "id": "xIhh62iV3cG2",
    "papermill": {
     "duration": 2.74508,
     "end_time": "2023-04-12T17:30:11.848653",
     "exception": false,
     "start_time": "2023-04-12T17:30:09.103573",
     "status": "completed"
    },
    "tags": []
   },
   "outputs": [],
   "source": [
    "from ultralytics import YOLO"
   ]
  },
  {
   "cell_type": "code",
   "execution_count": 3,
   "id": "0dfac845",
   "metadata": {
    "execution": {
     "iopub.execute_input": "2023-04-12T17:30:11.859818Z",
     "iopub.status.busy": "2023-04-12T17:30:11.858400Z",
     "iopub.status.idle": "2023-04-12T17:30:12.797875Z",
     "shell.execute_reply": "2023-04-12T17:30:12.796593Z"
    },
    "id": "DkdEa84_kaIB",
    "papermill": {
     "duration": 0.947361,
     "end_time": "2023-04-12T17:30:12.800478",
     "exception": false,
     "start_time": "2023-04-12T17:30:11.853117",
     "status": "completed"
    },
    "tags": []
   },
   "outputs": [
    {
     "name": "stdout",
     "output_type": "stream",
     "text": [
      "Python 3.7.12\r\n"
     ]
    }
   ],
   "source": [
    "!python --version\n"
   ]
  },
  {
   "cell_type": "code",
   "execution_count": null,
   "id": "288a2d4f",
   "metadata": {
    "papermill": {
     "duration": 0.347322,
     "end_time": "2023-04-12T18:52:23.031236",
     "exception": false,
     "start_time": "2023-04-12T18:52:22.683914",
     "status": "completed"
    },
    "tags": []
   },
   "outputs": [],
   "source": [
    "!yolo task=detect \\\n",
    "mode=train \\\n",
    "data=\"/kaggle/input/chanvese-binary-aperio-yolov8/data.yaml\" \\\n",
    "epochs=140 \\\n",
    "imgsz= 1000"
   ]
  },
  {
   "cell_type": "code",
   "execution_count": 6,
   "id": "5333a4fe",
   "metadata": {
    "execution": {
     "iopub.execute_input": "2023-04-12T18:52:39.975962Z",
     "iopub.status.busy": "2023-04-12T18:52:39.975500Z",
     "iopub.status.idle": "2023-04-12T18:52:39.981051Z",
     "shell.execute_reply": "2023-04-12T18:52:39.979826Z"
    },
    "id": "x5GnAoU53nYf",
    "papermill": {
     "duration": 0.364355,
     "end_time": "2023-04-12T18:52:39.983431",
     "exception": false,
     "start_time": "2023-04-12T18:52:39.619076",
     "status": "completed"
    },
    "tags": []
   },
   "outputs": [],
   "source": [
    "#!yolo task=detect \\\n",
    "#mode=predict \\\n",
    "#model=/content/drive/MyDrive/best.pt \\\n",
    "#conf=0.25 \\\n",
    "#source={dataset.location}/valid/images"
   ]
  },
  {
   "cell_type": "code",
   "execution_count": null,
   "id": "1c8b0557",
   "metadata": {
    "id": "edAccK1k3nbf",
    "papermill": {
     "duration": 0.346765,
     "end_time": "2023-04-12T18:52:40.694938",
     "exception": false,
     "start_time": "2023-04-12T18:52:40.348173",
     "status": "completed"
    },
    "tags": []
   },
   "outputs": [],
   "source": []
  },
  {
   "cell_type": "code",
   "execution_count": null,
   "id": "f9a2bdaf",
   "metadata": {
    "execution": {
     "iopub.execute_input": "2023-04-11T23:29:51.873234Z",
     "iopub.status.busy": "2023-04-11T23:29:51.872843Z",
     "iopub.status.idle": "2023-04-11T23:29:51.888392Z",
     "shell.execute_reply": "2023-04-11T23:29:51.886892Z",
     "shell.execute_reply.started": "2023-04-11T23:29:51.873177Z"
    },
    "id": "cpWJeVS33nfZ",
    "papermill": {
     "duration": 0.418718,
     "end_time": "2023-04-12T18:52:41.464422",
     "exception": false,
     "start_time": "2023-04-12T18:52:41.045704",
     "status": "completed"
    },
    "tags": []
   },
   "outputs": [],
   "source": []
  },
  {
   "cell_type": "code",
   "execution_count": null,
   "id": "06dd54a7",
   "metadata": {
    "papermill": {
     "duration": 0.348183,
     "end_time": "2023-04-12T18:52:42.165025",
     "exception": false,
     "start_time": "2023-04-12T18:52:41.816842",
     "status": "completed"
    },
    "tags": []
   },
   "outputs": [],
   "source": []
  }
 ],
 "metadata": {
  "kernelspec": {
   "display_name": "Python 3 (ipykernel)",
   "language": "python",
   "name": "python3"
  },
  "language_info": {
   "codemirror_mode": {
    "name": "ipython",
    "version": 3
   },
   "file_extension": ".py",
   "mimetype": "text/x-python",
   "name": "python",
   "nbconvert_exporter": "python",
   "pygments_lexer": "ipython3",
   "version": "3.9.12"
  },
  "papermill": {
   "default_parameters": {},
   "duration": 4977.625252,
   "end_time": "2023-04-12T18:52:43.447439",
   "environment_variables": {},
   "exception": null,
   "input_path": "__notebook__.ipynb",
   "output_path": "__notebook__.ipynb",
   "parameters": {},
   "start_time": "2023-04-12T17:29:45.822187",
   "version": "2.4.0"
  }
 },
 "nbformat": 4,
 "nbformat_minor": 5
}
