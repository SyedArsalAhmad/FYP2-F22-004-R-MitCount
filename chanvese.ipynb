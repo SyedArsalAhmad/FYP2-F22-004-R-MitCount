{
 "cells": [
  {
   "cell_type": "code",
   "execution_count": 1,
   "id": "1fb72d5d",
   "metadata": {},
   "outputs": [],
   "source": [
    "import matplotlib.pyplot as plt\n",
    "from skimage import data, img_as_float\n",
    "from skimage.segmentation import chan_vese\n",
    "from skimage import color\n",
    "from skimage import io\n",
    "from matplotlib import pyplot as plt\n",
    "from matplotlib import image as mpimg\n",
    "import numpy as np\n",
    "import cv2\n",
    "import matplotlib.image as mpimg\n",
    "from PIL import Image \n",
    "import PIL"
   ]
  },
  {
   "cell_type": "code",
   "execution_count": 2,
   "id": "421d4947",
   "metadata": {},
   "outputs": [
    {
     "name": "stdout",
     "output_type": "stream",
     "text": [
      "Files and directories in ' E:\\FYP\\data\training_aperio\\A03\f",
      "rames@ ' :\n",
      "['A03_00Ad.tiff', 'A03_00Ba.tiff', 'A03_00Bb.tiff', 'A03_00Bc.tiff', 'A03_00Bd.tiff', 'A03_00Ca.tiff', 'A03_00Cb.tiff', 'A03_00Cc.tiff', 'A03_00Cd.tiff', 'A03_00Da.tiff', 'A03_00Db.tiff', 'A03_00Dc.tiff', 'A03_00Dd.tiff', 'A03_01Aa.tiff', 'A03_01Ab.tiff', 'A03_01Ac.tiff', 'A03_01Ad.tiff', 'A03_01Ba.tiff', 'A03_01Bb.tiff', 'A03_01Bc.tiff', 'A03_01Bd.tiff', 'A03_01Ca.tiff', 'A03_01Cb.tiff', 'A03_01Cc.tiff', 'A03_01Cd.tiff', 'A03_01Da.tiff', 'A03_01Db.tiff', 'A03_01Dc.tiff', 'A03_01Dd.tiff', 'A03_02Aa.tiff', 'A03_02Ab.tiff', 'A03_02Ac.tiff', 'A03_02Ad.tiff', 'A03_02Ba.tiff', 'A03_02Bb.tiff', 'A03_02Bc.tiff', 'A03_02Bd.tiff', 'A03_02Ca.tiff', 'A03_02Cb.tiff', 'A03_02Cc.tiff', 'A03_02Cd.tiff', 'A03_02Da.tiff', 'A03_02Db.tiff', 'A03_02Dc.tiff', 'A03_02Dd.tiff', 'A03_03Aa.tiff', 'A03_03Ab.tiff', 'A03_03Ac.tiff', 'A03_03Ad.tiff', 'A03_03Ba.tiff', 'A03_03Bb.tiff', 'A03_03Bc.tiff', 'A03_03Bd.tiff', 'A03_03Ca.tiff', 'A03_03Cb.tiff', 'A03_03Cc.tiff', 'A03_03Cd.tiff', 'A03_03Da.tiff', 'A03_03Db.tiff', 'A03_03Dc.tiff', 'A03_03Dd.tiff', 'A03_04Aa.tiff', 'A03_04Ab.tiff', 'A03_04Ac.tiff', 'A03_04Ad.tiff', 'A03_04Ba.tiff', 'A03_04Bb.tiff', 'A03_04Bc.tiff', 'A03_04Bd.tiff', 'A03_04Ca.tiff', 'A03_04Cb.tiff', 'A03_04Cc.tiff', 'A03_04Cd.tiff', 'A03_04Da.tiff', 'A03_04Db.tiff', 'A03_04Dc.tiff', 'A03_04Dd.tiff', 'A03_05Aa.tiff', 'A03_05Ab.tiff', 'A03_05Ac.tiff', 'A03_05Ad.tiff', 'A03_05Ba.tiff', 'A03_05Bb.tiff', 'A03_05Bc.tiff', 'A03_05Bd.tiff', 'A03_05Ca.tiff', 'A03_05Cb.tiff', 'A03_05Cc.tiff', 'A03_05Cd.tiff', 'A03_05Da.tiff', 'A03_05Db.tiff', 'A03_05Dc.tiff', 'A03_05Dd.tiff']\n"
     ]
    }
   ],
   "source": [
    "import os\n",
    "path = \"E:\\FYP\\data\\training_aperio\\A03\\frames\\x40\"\n",
    "dir_list = os.listdir(r'E:\\FYP\\data\\training_aperio\\A03\\frames\\x40')\n",
    " \n",
    "print(\"Files and directories in '\", path, \"' :\")\n",
    " \n",
    "# prints all files\n",
    "print(dir_list)"
   ]
  },
  {
   "cell_type": "code",
   "execution_count": 4,
   "id": "249f6ea9",
   "metadata": {},
   "outputs": [],
   "source": [
    "list_of_main_folders  = ['A11','A12','A14','A15','A17','A18']"
   ]
  },
  {
   "cell_type": "code",
   "execution_count": 5,
   "id": "5779efac",
   "metadata": {
    "scrolled": true
   },
   "outputs": [],
   "source": [
    "# organizing imports\n",
    "import cv2\n",
    "import numpy as np\n",
    "import matplotlib.pyplot as plt  \n",
    "\n",
    "#dictionar of folder aolng with images\n",
    "folder_dic = {}\n",
    "import os\n",
    "for folder in list_of_main_folders:\n",
    "    path = r\"E:\\\\FYP\\\\data\\\\training_aperio\\\\\"+ folder +\"\\\\frames\\\\x40\"\n",
    "    dir_list = os.listdir(path)\n",
    "    folder_dic[folder] = dir_list\n",
    "    "
   ]
  },
  {
   "cell_type": "code",
   "execution_count": 6,
   "id": "c8e87c38",
   "metadata": {},
   "outputs": [
    {
     "data": {
      "text/plain": [
       "dict_keys(['A11', 'A12', 'A14', 'A15', 'A17', 'A18'])"
      ]
     },
     "execution_count": 6,
     "metadata": {},
     "output_type": "execute_result"
    }
   ],
   "source": [
    "#looking at the keys\n",
    "folder_dic.keys()"
   ]
  },
  {
   "cell_type": "code",
   "execution_count": 87,
   "id": "43709227",
   "metadata": {
    "scrolled": true
   },
   "outputs": [
    {
     "data": {
      "text/plain": [
       "['A05_00Aa.tiff',\n",
       " 'A05_00Ab.tiff',\n",
       " 'A05_00Ac.tiff',\n",
       " 'A05_00Ad.tiff',\n",
       " 'A05_00Ba.tiff',\n",
       " 'A05_00Bb.tiff',\n",
       " 'A05_00Bc.tiff',\n",
       " 'A05_00Bd.tiff',\n",
       " 'A05_00Ca.tiff',\n",
       " 'A05_00Cb.tiff',\n",
       " 'A05_00Cc.tiff',\n",
       " 'A05_00Cd.tiff',\n",
       " 'A05_00Da.tiff',\n",
       " 'A05_00Db.tiff',\n",
       " 'A05_00Dc.tiff',\n",
       " 'A05_00Dd.tiff',\n",
       " 'A05_01Aa.tiff',\n",
       " 'A05_01Ab.tiff',\n",
       " 'A05_01Ac.tiff',\n",
       " 'A05_01Ad.tiff',\n",
       " 'A05_01Ba.tiff',\n",
       " 'A05_01Bb.tiff',\n",
       " 'A05_01Bc.tiff',\n",
       " 'A05_01Bd.tiff',\n",
       " 'A05_01Ca.tiff',\n",
       " 'A05_01Cb.tiff',\n",
       " 'A05_01Cc.tiff',\n",
       " 'A05_01Cd.tiff',\n",
       " 'A05_01Da.tiff',\n",
       " 'A05_01Db.tiff',\n",
       " 'A05_01Dc.tiff',\n",
       " 'A05_01Dd.tiff',\n",
       " 'A05_02Aa.tiff',\n",
       " 'A05_02Ab.tiff',\n",
       " 'A05_02Ac.tiff',\n",
       " 'A05_02Ad.tiff',\n",
       " 'A05_02Ba.tiff',\n",
       " 'A05_02Bb.tiff',\n",
       " 'A05_02Bc.tiff',\n",
       " 'A05_02Bd.tiff',\n",
       " 'A05_02Ca.tiff',\n",
       " 'A05_02Cb.tiff',\n",
       " 'A05_02Cc.tiff',\n",
       " 'A05_02Cd.tiff',\n",
       " 'A05_02Da.tiff',\n",
       " 'A05_02Db.tiff',\n",
       " 'A05_02Dc.tiff',\n",
       " 'A05_02Dd.tiff',\n",
       " 'A05_03Aa.tiff',\n",
       " 'A05_03Ab.tiff',\n",
       " 'A05_03Ac.tiff',\n",
       " 'A05_03Ad.tiff',\n",
       " 'A05_03Ba.tiff',\n",
       " 'A05_03Bb.tiff',\n",
       " 'A05_03Bc.tiff',\n",
       " 'A05_03Bd.tiff',\n",
       " 'A05_03Ca.tiff',\n",
       " 'A05_03Cb.tiff',\n",
       " 'A05_03Cc.tiff',\n",
       " 'A05_03Cd.tiff',\n",
       " 'A05_03Da.tiff',\n",
       " 'A05_03Db.tiff',\n",
       " 'A05_03Dc.tiff',\n",
       " 'A05_03Dd.tiff',\n",
       " 'A05_04Aa.tiff',\n",
       " 'A05_04Ab.tiff',\n",
       " 'A05_04Ac.tiff',\n",
       " 'A05_04Ad.tiff',\n",
       " 'A05_04Ba.tiff',\n",
       " 'A05_04Bb.tiff',\n",
       " 'A05_04Bc.tiff',\n",
       " 'A05_04Bd.tiff',\n",
       " 'A05_04Ca.tiff',\n",
       " 'A05_04Cb.tiff',\n",
       " 'A05_04Cc.tiff',\n",
       " 'A05_04Cd.tiff',\n",
       " 'A05_04Da.tiff',\n",
       " 'A05_04Db.tiff',\n",
       " 'A05_04Dc.tiff',\n",
       " 'A05_04Dd.tiff',\n",
       " 'A05_05Aa.tiff',\n",
       " 'A05_05Ab.tiff',\n",
       " 'A05_05Ac.tiff',\n",
       " 'A05_05Ad.tiff',\n",
       " 'A05_05Ba.tiff',\n",
       " 'A05_05Bb.tiff',\n",
       " 'A05_05Bc.tiff',\n",
       " 'A05_05Bd.tiff',\n",
       " 'A05_05Ca.tiff',\n",
       " 'A05_05Cb.tiff',\n",
       " 'A05_05Cc.tiff',\n",
       " 'A05_05Cd.tiff',\n",
       " 'A05_05Da.tiff',\n",
       " 'A05_05Db.tiff',\n",
       " 'A05_05Dc.tiff',\n",
       " 'A05_05Dd.tiff',\n",
       " 'A05_06Aa.tiff',\n",
       " 'A05_06Ab.tiff',\n",
       " 'A05_06Ac.tiff',\n",
       " 'A05_06Ad.tiff',\n",
       " 'A05_06Ba.tiff',\n",
       " 'A05_06Bb.tiff',\n",
       " 'A05_06Bc.tiff',\n",
       " 'A05_06Bd.tiff',\n",
       " 'A05_06Ca.tiff',\n",
       " 'A05_06Cb.tiff',\n",
       " 'A05_06Cc.tiff',\n",
       " 'A05_06Cd.tiff',\n",
       " 'A05_06Da.tiff',\n",
       " 'A05_06Db.tiff',\n",
       " 'A05_06Dc.tiff',\n",
       " 'A05_06Dd.tiff']"
      ]
     },
     "execution_count": 87,
     "metadata": {},
     "output_type": "execute_result"
    }
   ],
   "source": [
    "#looking at the values for each key\n",
    "folder_dic['A05']"
   ]
  },
  {
   "cell_type": "code",
   "execution_count": null,
   "id": "c56aae70",
   "metadata": {},
   "outputs": [],
   "source": [
    "for folder in folder_dic.keys():\n",
    "    for imgs in folder_dic[folder]:\n",
    "\n",
    "\n",
    "\n",
    "        image1 = cv2.imread(folder+'\\\\frames\\\\x40\\\\'+imgs)\n",
    "        img = cv2.cvtColor(image1, cv2.COLOR_BGR2GRAY)\n",
    "        w,h = img.shape\n",
    "        img = cv2.resize(img, (int(0.4*w), int(0.4*h)))\n",
    "        \n",
    "        \n",
    "        \n",
    "        \n",
    "        cv = chan_vese(source, mu=0.25, lambda1=1, lambda2=2, tol=1e-3,\n",
    "             dt=0.5, init_level_set=\"checkerboard\",\n",
    "               extended_output=True)\n",
    "        \n",
    "        \n",
    "        \n",
    "        \n",
    "        \n",
    "\n",
    "\n",
    "        mpimg.imsave(r'E:\\FYP\\data\\training_aperio\\cvsegmented\\ ' +str(imgs) ,cv[1])"
   ]
  },
  {
   "cell_type": "code",
   "execution_count": 62,
   "id": "1506e61b",
   "metadata": {},
   "outputs": [
    {
     "data": {
      "text/plain": [
       "(615, 550)"
      ]
     },
     "execution_count": 62,
     "metadata": {},
     "output_type": "execute_result"
    },
    {
     "data": {
      "image/png": "[encoded data removed]",
      "text/plain": [
       "<Figure size 432x288 with 1 Axes>"
      ]
     },
     "metadata": {
      "needs_background": "light"
     },
     "output_type": "display_data"
    }
   ],
   "source": [
    "plt.imshow(cv[1],cmap ='gray')\n",
    "\n",
    "cv[1].shape"
   ]
  },
  {
   "cell_type": "code",
   "execution_count": null,
   "id": "59c5c8e0",
   "metadata": {},
   "outputs": [],
   "source": []
  }
 ],
 "metadata": {
  "kernelspec": {
   "display_name": "Python 3 (ipykernel)",
   "language": "python",
   "name": "python3"
  },
  "language_info": {
   "codemirror_mode": {
    "name": "ipython",
    "version": 3
   },
   "file_extension": ".py",
   "mimetype": "text/x-python",
   "name": "python",
   "nbconvert_exporter": "python",
   "pygments_lexer": "ipython3",
   "version": "3.9.7"
  }
 },
 "nbformat": 4,
 "nbformat_minor": 5
}
